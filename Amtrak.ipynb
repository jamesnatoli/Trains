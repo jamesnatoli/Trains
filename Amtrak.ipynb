{
  "nbformat": 4,
  "nbformat_minor": 0,
  "metadata": {
    "colab": {
      "provenance": [],
      "authorship_tag": "ABX9TyMo5QxYiwuHaHpCIWULDJoq",
      "include_colab_link": true
    },
    "kernelspec": {
      "name": "python3",
      "display_name": "Python 3"
    },
    "language_info": {
      "name": "python"
    }
  },
  "cells": [
    {
      "cell_type": "markdown",
      "metadata": {
        "id": "view-in-github",
        "colab_type": "text"
      },
      "source": [
        "<a href=\"https://colab.research.google.com/github/jamesnatoli/Trains/blob/main/Amtrak.ipynb\" target=\"_parent\"><img src=\"https://colab.research.google.com/assets/colab-badge.svg\" alt=\"Open In Colab\"/></a>"
      ]
    },
    {
      "cell_type": "markdown",
      "source": [
        "First, make a wrapper for the dictionaries that are returned from the api calls"
      ],
      "metadata": {
        "id": "FlmgHgbBCdT5"
      }
    },
    {
      "cell_type": "code",
      "execution_count": 45,
      "metadata": {
        "collapsed": true,
        "id": "roD4CDsTBryB"
      },
      "outputs": [],
      "source": [
        "import matplotlib.pyplot as plt\n",
        "import datetime\n",
        "from zoneinfo import ZoneInfo\n",
        "import numpy as np\n",
        "import requests\n",
        "import re\n",
        "\n",
        "# Object wrapper for dictionary\n",
        "class Struct:\n",
        "    def __init__(self, **entries):\n",
        "        self.__dict__.update(entries)\n",
        "\n",
        "    def __repr__(self):\n",
        "        return '<%s>' % str('\\n '.join('%s : %s' % (k, repr(v)) for (k, v) in self.__dict__.items()))\n",
        "\n",
        "    def __getattr__( self, attr):\n",
        "        value = self.__dict__.get(attr)\n",
        "        if not value:\n",
        "            print(f'Warning: \\'Struct\\' object has no attribute \\'{attr}\\', returning -1')\n",
        "            return -1\n",
        "        else:\n",
        "            return value"
      ]
    },
    {
      "cell_type": "markdown",
      "source": [
        "Next, we'll create a class to handle the api calls for us"
      ],
      "metadata": {
        "id": "APFOQOQZCzFO"
      }
    },
    {
      "cell_type": "code",
      "source": [
        "class Amtrak:\n",
        "    def __init__( self):\n",
        "        self.api = 'https://api-v3.amtraker.com/v3/'\n",
        "\n",
        "    def fetchAllTrains( self):\n",
        "        data = requests.get( self.api + 'trains').json()\n",
        "        return [ Struct(**v[0]) for k, v in data.items()]\n",
        "\n",
        "    def fetchTrain( self, trainID):\n",
        "        data = requests.get( self.api + 'trains/' + str(trainID)).json()\n",
        "        return Struct(**data[str(trainID)][0])\n",
        "\n",
        "    def fetchAllStations( self):\n",
        "        data = requests.get( self.api + 'stations').json()\n",
        "        return [ Struct(**v) for k, v in data.items()]\n",
        "\n",
        "    def fetchStation( self, stationID):\n",
        "        data = requests.get( self.api + 'stations/' + stationID).json()\n",
        "        return Struct(**data[stationID])\n",
        "\n",
        "    def fetchTrainPerformance( self, plot=False):\n",
        "        count = 0\n",
        "        total = 0\n",
        "        allLateness = []\n",
        "        latestTime = -1\n",
        "        latestTrain = Struct()\n",
        "        for train in self.fetchAllTrains():\n",
        "            if train.trainState != 'Active': continue\n",
        "            total+=1\n",
        "            howLate = float()\n",
        "            txt = train.trainTimely\n",
        "            if 'Late' not in train.trainTimely: continue\n",
        "            count+=1\n",
        "            match = re.search(r\"^(\\d*) Hours?, (\\d*) Minutes? Late$\", txt)\n",
        "            if match:\n",
        "                howLate = (float(match.group(1)) * 60) + float(match.group(2))\n",
        "            else:\n",
        "                match = re.search(r\"(\\d*) Minutes? Late$\", txt)\n",
        "                if not match:\n",
        "                    print(\"NO MATCH\")\n",
        "                    exit(0)\n",
        "                else:\n",
        "                    howLate = float(match.group(1))\n",
        "            allLateness.append(howLate)\n",
        "\n",
        "            if howLate > latestTime:\n",
        "                latestTime = howLate\n",
        "                latestTrain = train\n",
        "\n",
        "        if plot:\n",
        "            binlow = 0\n",
        "            binhigh = round(max(allLateness), -1) + 10\n",
        "            plt.hist( allLateness, bins=int(binhigh/10), range=[binlow, binhigh])\n",
        "            plt.ylabel(r'$N_{trains}$', loc='top')\n",
        "            plt.xlabel('Minutes')\n",
        "            plt.xticks( np.arange(binlow, binhigh, step=30))\n",
        "            plt.title('Amtrak Late Trains', fontweight='bold', loc='left')\n",
        "            plt.title(datetime.datetime.now(tz=ZoneInfo(\"America/New_York\")).strftime(\"%Y-%m-%d %H:%M:%S (%Z)\"), loc=\"right\")\n",
        "            plt.show()\n",
        "\n",
        "        print(f'{count} / {total} trains are late')\n",
        "        print(f'{latestTrain.routeName} from {latestTrain.origName} towards {latestTrain.destName} is {latestTrain.trainTimely}')\n",
        "        return latestTrain, latestTrain.trainTimely\n",
        "\n",
        "    def fetchFastestTrain( self, plot=False):\n",
        "        fastestTrain = Struct()\n",
        "        fastestVelocity = -1\n",
        "        allVelocities = []\n",
        "\n",
        "        for train in self.fetchAllTrains():\n",
        "            if train.trainState != 'Active': continue\n",
        "            howFast = train.velocity\n",
        "            allVelocities.append( howFast)\n",
        "            if howFast > fastestVelocity:\n",
        "                fastestVelocity = howFast\n",
        "                fastestTrain = train\n",
        "\n",
        "        if plot:\n",
        "            binlow = 0\n",
        "            binhigh = round(max(allVelocities), -1) + 10\n",
        "            plt.hist( allVelocities, bins=int(binhigh/10), range=[binlow, binhigh])\n",
        "            plt.ylabel(r'$N_{trains}$', loc='top')\n",
        "            plt.xlabel('Velocity (mph)')\n",
        "            # plt.xticks( np.arange(binlow, binhigh, step=25))\n",
        "            plt.title('Velocity of Amtrak Trains', fontweight='bold', loc='left')\n",
        "            plt.title(datetime.datetime.now(tz=ZoneInfo(\"America/New_York\")).strftime(\"%Y-%m-%d %H:%M:%S (%Z)\"), loc=\"right\")\n",
        "            plt.show()\n",
        "\n",
        "\n",
        "        print(f'{fastestTrain.routeName} from {fastestTrain.origName} towards {fastestTrain.destName} is travelling {round(fastestVelocity, 2)} mph')\n",
        "        return fastestTrain, fastestTrain.velocity"
      ],
      "metadata": {
        "id": "j1kuXn8iCmUe"
      },
      "execution_count": 46,
      "outputs": []
    },
    {
      "cell_type": "markdown",
      "source": [
        "Now we can use the class to get some interesting information about the Amtrak trains. Any additional functions we can add to the Amtrak class\n",
        "\n",
        "First, let's get the performance of the active trains and make a histogram of them. This only shows trains that are late."
      ],
      "metadata": {
        "id": "PiRa570pC-Ry"
      }
    },
    {
      "cell_type": "code",
      "source": [
        "# create object\n",
        "amtrak = Amtrak()\n",
        "\n",
        "# default is plot=False\n",
        "latestTrain, howLate = amtrak.fetchTrainPerformance(plot=True)"
      ],
      "metadata": {
        "colab": {
          "base_uri": "https://localhost:8080/",
          "height": 507
        },
        "id": "_ACGky-hC-2S",
        "outputId": "0c1b8232-d4fc-4949-a277-16b990f56aee"
      },
      "execution_count": 47,
      "outputs": [
        {
          "output_type": "display_data",
          "data": {
            "text/plain": [
              "<Figure size 640x480 with 1 Axes>"
            ],
            "image/png": "[encoded data removed]"
          },
          "metadata": {}
        },
        {
          "output_type": "stream",
          "name": "stdout",
          "text": [
            "46 / 118 trains are late\n",
            "Silver Star from New York Penn towards Miami is 6 Hours, 58 Minutes Late\n"
          ]
        }
      ]
    },
    {
      "cell_type": "markdown",
      "source": [
        "Now let's see where that very late train is"
      ],
      "metadata": {
        "id": "Fnio3KNaDpX6"
      }
    },
    {
      "cell_type": "code",
      "source": [
        "for station in latestTrain.stations:\n",
        "  if station['status'] != 'Departed':\n",
        "    print(f\"Next Station: {station['name']}\")\n",
        "    break"
      ],
      "metadata": {
        "colab": {
          "base_uri": "https://localhost:8080/"
        },
        "id": "E49QH4PJDo8T",
        "outputId": "2062dce5-a83a-4fda-df06-c7660f853d0d"
      },
      "execution_count": 48,
      "outputs": [
        {
          "output_type": "stream",
          "name": "stdout",
          "text": [
            "Next Station: Lakeland\n"
          ]
        }
      ]
    },
    {
      "cell_type": "markdown",
      "source": [
        "We can also plot the distribution of velocities, and of course get the current fastest train"
      ],
      "metadata": {
        "id": "06bRUCFWEFgU"
      }
    },
    {
      "cell_type": "code",
      "source": [
        "fastestTrain, howFast = amtrak.fetchFastestTrain( plot=True)"
      ],
      "metadata": {
        "colab": {
          "base_uri": "https://localhost:8080/",
          "height": 489
        },
        "id": "uuMHHN-5EENA",
        "outputId": "2d9d3ec0-1879-4d18-bbb7-3be79ad61aba"
      },
      "execution_count": 49,
      "outputs": [
        {
          "output_type": "display_data",
          "data": {
            "text/plain": [
              "<Figure size 640x480 with 1 Axes>"
            ],
            "image/png": "[encoded data removed]"
          },
          "metadata": {}
        },
        {
          "output_type": "stream",
          "name": "stdout",
          "text": [
            "Acela from Washington Union towards Boston South is travelling 147.1 mph\n"
          ]
        }
      ]
    },
    {
      "cell_type": "markdown",
      "source": [
        "Note the peak before 80 mph, this can be explained by the fact that many Amtrak trains run on sections of track with a speed limit of 79 mph\n",
        "\n",
        "Now let's see where that speedy train is going that fast"
      ],
      "metadata": {
        "id": "6uXIOjzREuHE"
      }
    },
    {
      "cell_type": "code",
      "source": [
        "idx = 0\n",
        "\n",
        "stations = fastestTrain.stations\n",
        "station = stations[idx]\n",
        "\n",
        "while station['status'] == 'Departed':\n",
        "    idx+=1\n",
        "    station = stations[idx]\n",
        "\n",
        "nextStation = station\n",
        "prevStation = stations[idx-1]\n",
        "\n",
        "print(f\"{fastestTrain.routeName} is travelling {round(howFast, 2)} mph {fastestTrain.heading} between {prevStation['name']} and {nextStation['name']}\")"
      ],
      "metadata": {
        "colab": {
          "base_uri": "https://localhost:8080/"
        },
        "id": "FFrBlxtME6yJ",
        "outputId": "89b6e5e5-ac7d-434f-b890-85dfb424b029"
      },
      "execution_count": 51,
      "outputs": [
        {
          "output_type": "stream",
          "name": "stdout",
          "text": [
            "Acela is travelling 147.1 mph N between Providence and Westwood-Route 128\n"
          ]
        }
      ]
    }
  ]
}